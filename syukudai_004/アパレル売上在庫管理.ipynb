{
  "nbformat": 4,
  "nbformat_minor": 0,
  "metadata": {
    "colab": {
      "provenance": []
    },
    "kernelspec": {
      "name": "python3",
      "display_name": "Python 3"
    },
    "language_info": {
      "name": "python"
    }
  },
  "cells": [
    {
      "cell_type": "code",
      "execution_count": 23,
      "metadata": {
        "colab": {
          "base_uri": "https://localhost:8080/"
        },
        "id": "E96O5UW-8cfb",
        "outputId": "f65553c5-6ff7-4181-d66c-7ab20f640d44"
      },
      "outputs": [
        {
          "output_type": "stream",
          "name": "stdout",
          "text": [
            "--- 購入された商品の数を決定します ---\n",
            "Tシャツの購入数: 27\n",
            "パンツの購入数: 20\n",
            "靴の購入数: 5\n",
            "フーディーの購入数: 27\n",
            "\n",
            "--- 各商品の合計金額 ---\n",
            "Tシャツの売上: 94500\n",
            "Tシャツの残り在庫数: 23\n",
            "\n",
            "パンツの売上: 139800\n",
            "パンツの残り在庫数: 0\n",
            "\n",
            "靴の売上: 44950\n",
            "靴の残り在庫数: 0\n",
            "\n",
            "フーディーの売上: 161730\n",
            "フーディーの残り在庫数: 3\n",
            "\n",
            "売上が一番大きかった商品は【フーディー】で、売上は【161730】でした！\n"
          ]
        }
      ],
      "source": [
        "import random\n",
        "\n",
        "class Product:\n",
        "    def __init__(self, name, price, stock):\n",
        "        self.name = name\n",
        "        self.price = price\n",
        "        self.stock = stock\n",
        "        self.purchases = 0  # 購入された商品数\n",
        "        self.sales_amount = 0  # 合計金額\n",
        "        self.remaining_stock = 0  # 残りの在庫数\n",
        "\n",
        "    def simulate_purchase(self):\n",
        "        #ランダムな購入数を生成し、在庫数を超えないように調整する。\n",
        "\n",
        "        # 0から50までのランダムな整数を購入数として生成\n",
        "        self.purchases = random.randint(0, 50)\n",
        "\n",
        "        # 購入数が在庫数を超えた場合、購入数を在庫数に設定\n",
        "        if self.purchases > self.stock:\n",
        "            self.purchases = self.stock\n",
        "\n",
        "    def calculate_results(self):\n",
        "        #売上と残りの在庫数を計算する。\n",
        "\n",
        "        # 購入数に価格を掛けて売上を計算\n",
        "        self.sales_amount = self.purchases * self.price\n",
        "\n",
        "        # 在庫数から購入数を引いて残りの在庫数を計算\n",
        "        self.remaining_stock = self.stock - self.purchases\n",
        "\n",
        "\n",
        "# 各商品をインスタンス化 (商品名, 価格, 在庫数を設定)\n",
        "products = [\n",
        "    Product(\"Tシャツ\", 3500, 50),\n",
        "    Product(\"パンツ\", 6990, 20),\n",
        "    Product(\"靴\", 8990, 5),\n",
        "    Product(\"フーディー\", 5990, 30)\n",
        "]\n",
        "\n",
        "print(\"--- 購入された商品の数を決定します ---\")\n",
        "# 各商品の購入処理を実行し、結果を表示\n",
        "for item in products:\n",
        "    item.simulate_purchase()\n",
        "    print(f\"{item.name}の購入数: {item.purchases}\")\n",
        "\n",
        "print(\"\\n--- 各商品の合計金額 ---\")\n",
        "# 各商品の売上と残りの在庫数を計算し、結果を表示\n",
        "for item in products:\n",
        "    item.calculate_results()\n",
        "    print(f\"{item.name}の売上: {item.sales_amount}\")\n",
        "    print(f\"{item.name}の残り在庫数: {item.remaining_stock}\\n\")\n",
        "\n",
        "# 最も売上が高かった商品を特定\n",
        "# sales_amount をキーとして最大値を持つ商品オブジェクトを見つける\n",
        "best_seller = max(products, key=lambda p: p.sales_amount)\n",
        "\n",
        "print(f\"売上が一番大きかった商品は【{best_seller.name}】で、売上は【{best_seller.sales_amount}】でした！\")"
      ]
    },
    {
      "cell_type": "code",
      "source": [],
      "metadata": {
        "id": "_lja68py8ySS"
      },
      "execution_count": null,
      "outputs": []
    }
  ]
}