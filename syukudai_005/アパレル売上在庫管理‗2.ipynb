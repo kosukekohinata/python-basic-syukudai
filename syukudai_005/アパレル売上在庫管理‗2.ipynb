{
  "nbformat": 4,
  "nbformat_minor": 0,
  "metadata": {
    "colab": {
      "provenance": []
    },
    "kernelspec": {
      "name": "python3",
      "display_name": "Python 3"
    },
    "language_info": {
      "name": "python"
    }
  },
  "cells": [
    {
      "cell_type": "code",
      "execution_count": 26,
      "metadata": {
        "colab": {
          "base_uri": "https://localhost:8080/"
        },
        "id": "i3Y2BizaL7xC",
        "outputId": "dee75587-f8ec-4307-ff86-dd952a8d0fef"
      },
      "outputs": [
        {
          "output_type": "stream",
          "name": "stdout",
          "text": [
            "--- 売上を計算します ---\n",
            "Tシャツの購入数を入力してください（在庫数: 50）: 1\n",
            "Tシャツの売上: 3500\n",
            "Tシャツの残り在庫数: 49\n",
            "\n",
            "パンツの購入数を入力してください（在庫数: 20）: 12\n",
            "パンツの売上: 83880\n",
            "パンツの残り在庫数: 8\n",
            "\n",
            "靴の購入数を入力してください（在庫数: 5）: 12\n",
            "在庫数(5)を超えるため、購入数を5に設定します。\n",
            "靴の売上: 44950\n",
            "靴の残り在庫数: 0\n",
            "\n",
            "フーディーの購入数を入力してください（在庫数: 30）: 12\n",
            "フーディーの売上: 71880\n",
            "フーディーの残り在庫数: 18\n",
            "\n",
            "バスケットボールの購入数を入力してください（在庫数: 15）: 12\n",
            "バスケットボールの売上: 54000\n",
            "バスケットボールの残り在庫数: 3\n",
            "\n",
            "サッカーボールの購入数を入力してください（在庫数: 25）: 2\n",
            "サッカーボールの売上: 8000\n",
            "サッカーボールの残り在庫数: 23\n",
            "\n",
            "ノートの購入数を入力してください（在庫数: 100）: 12\n",
            "ノートの売上: 3000\n",
            "ノートの残り在庫数: 88\n",
            "\n",
            "ペンの購入数を入力してください（在庫数: 200）: 12\n",
            "ペンの売上: 1800\n",
            "ペンの残り在庫数: 188\n",
            "\n",
            "売上が一番大きかった商品は【パンツ】で、売上は【83880】でした！\n",
            "\n",
            "--- カテゴリ別の合計金額 ---\n",
            "衣類の売上合計: 204210\n",
            "スポーツ用品の売上合計: 62000\n",
            "文房具の売上合計: 4800\n",
            "\n",
            "売上が一番大きかったカテゴリは【衣類】でした！\n"
          ]
        }
      ],
      "source": [
        "class Product:\n",
        "    def __init__(self, name, price, stock, category):\n",
        "        self.name = name\n",
        "        self.price = price\n",
        "        self.stock = stock\n",
        "        self.category = category\n",
        "\n",
        "products = [\n",
        "    Product(\"Tシャツ\", 3500, 50, \"衣類\"),\n",
        "    Product(\"パンツ\", 6990, 20, \"衣類\"),\n",
        "    Product(\"靴\", 8990, 5, \"衣類\"),\n",
        "    Product(\"フーディー\", 5990, 30, \"衣類\"),\n",
        "    Product(\"バスケットボール\", 4500, 15, \"スポーツ用品\"),\n",
        "    Product(\"サッカーボール\", 4000, 25, \"スポーツ用品\"),\n",
        "    Product(\"ノート\", 250, 100, \"文房具\"),\n",
        "    Product(\"ペン\", 150, 200, \"文房具\")\n",
        "]\n",
        "\n",
        "total_sales = 0\n",
        "category_sales = {}\n",
        "product_sales = {}\n",
        "\n",
        "print(\"--- 売上を計算します ---\")\n",
        "\n",
        "for item in products:\n",
        "    input_str = input(f\"{item.name}の購入数を入力してください（在庫数: {item.stock}）: \")\n",
        "    purchases = int(input_str)\n",
        "\n",
        "    if purchases > item.stock:\n",
        "        print(f\"在庫数({item.stock})を超えるため、購入数を{item.stock}に設定します。\")\n",
        "        purchases = item.stock\n",
        "\n",
        "    sales_amount = purchases * item.price\n",
        "    remaining_stock = item.stock - purchases\n",
        "\n",
        "    product_sales[item.name] = sales_amount\n",
        "    total_sales += sales_amount\n",
        "\n",
        "    if item.category not in category_sales:\n",
        "        category_sales[item.category] = sales_amount\n",
        "    else:\n",
        "        category_sales[item.category] += sales_amount\n",
        "\n",
        "    print(f\"{item.name}の売上: {sales_amount}\")\n",
        "    print(f\"{item.name}の残り在庫数: {remaining_stock}\\n\")\n",
        "\n",
        "#---\n",
        "### **結果の表示と分析**\n",
        "\n",
        "# 最も売上が高かった商品を特定\n",
        "if product_sales: # 辞書が空ではないかチェック\n",
        "    best_seller_product = max(product_sales, key=product_sales.get)\n",
        "    max_sales = product_sales[best_seller_product]\n",
        "    print(f\"売上が一番大きかった商品は【{best_seller_product}】で、売上は【{max_sales}】でした！\")\n",
        "else:\n",
        "    print(\"売上データがありません。\")\n",
        "\n",
        "print(\"\\n--- カテゴリ別の合計金額 ---\")\n",
        "for category, sales in category_sales.items():\n",
        "    print(f\"{category}の売上合計: {sales}\")\n",
        "\n",
        "# 一番売上が高かったカテゴリを特定\n",
        "if category_sales: # 辞書が空ではないかチェック\n",
        "    best_seller_category = max(category_sales, key=category_sales.get)\n",
        "    max_category_sales = category_sales[best_seller_category]\n",
        "    print(f\"\\n売上が一番大きかったカテゴリは【{best_seller_category}】でした！\")\n",
        "else:\n",
        "    print(\"\\nカテゴリ別の売上データがありません。\")1"
      ]
    },
    {
      "cell_type": "code",
      "source": [],
      "metadata": {
        "id": "1GgtfpigOPOL"
      },
      "execution_count": null,
      "outputs": []
    }
  ]
}