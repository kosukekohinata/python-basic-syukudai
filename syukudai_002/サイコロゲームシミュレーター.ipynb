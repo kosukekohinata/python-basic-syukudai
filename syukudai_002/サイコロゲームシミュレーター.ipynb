{
  "nbformat": 4,
  "nbformat_minor": 0,
  "metadata": {
    "colab": {
      "provenance": []
    },
    "kernelspec": {
      "name": "python3",
      "display_name": "Python 3"
    },
    "language_info": {
      "name": "python"
    }
  },
  "cells": [
    {
      "cell_type": "code",
      "source": [
        "#上から順に制作過程となっています。一番↓のコードが今回の完成形です。確認お願いいたします。"
      ],
      "metadata": {
        "id": "lT5gGB9wJ59n"
      },
      "execution_count": null,
      "outputs": []
    },
    {
      "cell_type": "code",
      "execution_count": 37,
      "metadata": {
        "colab": {
          "base_uri": "https://localhost:8080/"
        },
        "id": "yTrqkUxmu7M3",
        "outputId": "726709bf-b7a7-4078-962d-74af93bd3116",
        "collapsed": true
      },
      "outputs": [
        {
          "output_type": "stream",
          "name": "stdout",
          "text": [
            "1回目の出目は5でした。\n",
            "2回目の出目は3でした。\n",
            "3回目の出目は1でした。\n",
            "4回目の出目は6でした。\n",
            "5回目の出目は2でした。\n",
            "6回目の出目は3でした。\n",
            "7回目の出目は3でした。\n",
            "8回目の出目は5でした。\n",
            "9回目の出目は2でした。\n",
            "10回目の出目は3でした。\n",
            "11回目の出目は5でした。\n",
            "12回目の出目は5でした。\n",
            "13回目の出目は4でした。\n",
            "14回目の出目は1でした。\n",
            "15回目の出目は4でした。\n"
          ]
        }
      ],
      "source": [
        "#リストからランダムで変数を選ぶためのモジュールをインポートする\n",
        "import random\n",
        "\n",
        "#サイコロを実際に転がす関数を定義する。関数名はroll_diceとする\n",
        "def roll_dice():\n",
        "  dice_faces = [1, 2, 3, 4, 5, 6]#サイコロの目のリストを作成する dice_facesという変数にサイコロの目である1～6のリストを代入する\n",
        "  choice_face = random.choice(dice_faces)#random.choice()モジュールでdice_facesリストからランダムで選んだ引数をchoice_face変数に代入する\n",
        "  return choice_face\n",
        "\n",
        "for i in range(15):#関数を繰り返し文で15回実行する処理と文字出力。今回は15回と回数が決まっているのでfor文を使用します。\n",
        "  print(f\"{i+1}回目の出目は{roll_dice()}でした。\")\n",
        "\n",
        "#繰り返し処理をして出力された結果をリスト化する\n",
        "# result_list = []\n",
        "#   result_list.append(roll_dice())\n",
        "#   print(f\"最終的なリスト: {result_list}\")\n",
        "\n",
        "#15回分の結果のリストを入れる変数を定義する"
      ]
    },
    {
      "cell_type": "code",
      "source": [
        "#リストからランダムで変数を選ぶためのモジュールをインポートする\n",
        "import random\n",
        "\n",
        "#サイコロを実際に転がす関数を定義する。関数名はroll_diceとする\n",
        "def roll_dice():\n",
        "  dice_faces = [1, 2, 3, 4, 5, 6]#サイコロの目のリストを作成する dice_facesという変数にサイコロの目である1～6のリストを代入する\n",
        "  choice_face = random.choice(dice_faces)#random.choice()モジュールでdice_facesリストからランダムで選んだ引数をchoice_face変数に代入する\n",
        "  return choice_face\n",
        "\n",
        "result_list = [] #1～15回目までの結果を格納するリスト\n",
        "\n",
        "for i in range(15):#関数を繰り返し文で15回実行する処理と文字出力\n",
        "  current_roll = roll_dice() #ランダムの結果を変数current_rollに格納\n",
        "  print(f\"{i + 1}回目の出目は{current_roll}\")\n",
        "\n",
        "  result_list.append(current_roll)\n",
        "  print(result_list)\n",
        "  result_sum = sum(result_list)\n",
        "  print(result_sum)"
      ],
      "metadata": {
        "colab": {
          "base_uri": "https://localhost:8080/"
        },
        "collapsed": true,
        "id": "TAiUnrDl-UiN",
        "outputId": "a2f839fb-dc1e-4b61-ca24-e56d58c6cd6a"
      },
      "execution_count": 36,
      "outputs": [
        {
          "output_type": "stream",
          "name": "stdout",
          "text": [
            "1回目の出目は2\n",
            "[2]\n",
            "2\n",
            "2回目の出目は2\n",
            "[2, 2]\n",
            "4\n",
            "3回目の出目は5\n",
            "[2, 2, 5]\n",
            "9\n",
            "4回目の出目は2\n",
            "[2, 2, 5, 2]\n",
            "11\n",
            "5回目の出目は3\n",
            "[2, 2, 5, 2, 3]\n",
            "14\n",
            "6回目の出目は6\n",
            "[2, 2, 5, 2, 3, 6]\n",
            "20\n",
            "7回目の出目は3\n",
            "[2, 2, 5, 2, 3, 6, 3]\n",
            "23\n",
            "8回目の出目は3\n",
            "[2, 2, 5, 2, 3, 6, 3, 3]\n",
            "26\n",
            "9回目の出目は1\n",
            "[2, 2, 5, 2, 3, 6, 3, 3, 1]\n",
            "27\n",
            "10回目の出目は1\n",
            "[2, 2, 5, 2, 3, 6, 3, 3, 1, 1]\n",
            "28\n",
            "11回目の出目は5\n",
            "[2, 2, 5, 2, 3, 6, 3, 3, 1, 1, 5]\n",
            "33\n",
            "12回目の出目は2\n",
            "[2, 2, 5, 2, 3, 6, 3, 3, 1, 1, 5, 2]\n",
            "35\n",
            "13回目の出目は1\n",
            "[2, 2, 5, 2, 3, 6, 3, 3, 1, 1, 5, 2, 1]\n",
            "36\n",
            "14回目の出目は1\n",
            "[2, 2, 5, 2, 3, 6, 3, 3, 1, 1, 5, 2, 1, 1]\n",
            "37\n",
            "15回目の出目は1\n",
            "[2, 2, 5, 2, 3, 6, 3, 3, 1, 1, 5, 2, 1, 1, 1]\n",
            "38\n"
          ]
        }
      ]
    },
    {
      "cell_type": "code",
      "source": [
        "#リストからランダムで変数を選ぶためのモジュールをインポートする\n",
        "import random\n",
        "\n",
        "#サイコロを実際に転がす関数を定義する。関数名はroll_diceとする\n",
        "def roll_dice():\n",
        "  dice_faces = [1, 2, 3, 4, 5, 6]#サイコロの目のリストを作成する dice_facesという変数にサイコロの目である1～6のリストを代入する\n",
        "  choice_face = random.choice(dice_faces)#random.choice()モジュールでdice_facesリストからランダムで選んだ引数をchoice_face変数に代入する\n",
        "  return choice_face\n",
        "\n",
        "result_list = [] #1～15回目までの結果を格納するリスト\n",
        "\n",
        "for i in range(15):#関数を繰り返し文で15回実行する処理と文字出力\n",
        "  current_roll = roll_dice() #ランダムの結果を変数current_rollに格納\n",
        "  print(f\"{i + 1}回目の出目は{current_roll}\")\n",
        "  result_list.append(current_roll)\n",
        "\n",
        "roll_dice_avarage = sum(result_list) / len(result_list)\n",
        "roll_dice_avarage_sum = roll_dice_avarage * 15\n",
        "print(roll_dice_avarage_sum)\n",
        "\n",
        "result_sum = sum(result_list)\n",
        "if result_sum > roll_dice_avarage_sum:\n",
        "  print(f\"{result_sum}は高得点です\")\n"
      ],
      "metadata": {
        "colab": {
          "base_uri": "https://localhost:8080/"
        },
        "collapsed": true,
        "id": "IYCkfua_APJh",
        "outputId": "e2e24816-ce06-4a95-d0ac-7b56e336fe26"
      },
      "execution_count": 60,
      "outputs": [
        {
          "output_type": "stream",
          "name": "stdout",
          "text": [
            "1回目の出目は2\n",
            "2回目の出目は3\n",
            "3回目の出目は6\n",
            "4回目の出目は5\n",
            "5回目の出目は1\n",
            "6回目の出目は2\n",
            "7回目の出目は3\n",
            "8回目の出目は2\n",
            "9回目の出目は3\n",
            "10回目の出目は2\n",
            "11回目の出目は2\n",
            "12回目の出目は6\n",
            "13回目の出目は2\n",
            "14回目の出目は2\n",
            "15回目の出目は1\n",
            "42.0\n"
          ]
        }
      ]
    },
    {
      "cell_type": "code",
      "source": [
        "#リストからランダムで変数を選ぶためのモジュールをインポートする\n",
        "import random\n",
        "\n",
        "#サイコロを実際に転がす関数を定義する。関数名はroll_diceとする\n",
        "def roll_dice():\n",
        "  dice_faces = [1, 2, 3, 4, 5, 6]#サイコロの目のリストを作成する dice_facesという変数にサイコロの目である1～6のリストを代入する\n",
        "  choice_face = random.choice(dice_faces)#random.choice()モジュールでdice_facesリストからランダムで選んだ引数をchoice_face変数に代入する\n",
        "  return choice_face\n",
        "\n",
        "result_list = [] #1～15回目までの結果を格納するリスト\n",
        "\n",
        "for i in range(15):#関数を繰り返し文で15回実行する処理と文字出力\n",
        "  current_roll = roll_dice() #ランダムの結果を変数current_rollに格納\n",
        "  print(f\"{i + 1}回目の出目は{current_roll}\")\n",
        "  result_list.append(current_roll)\n",
        "\n",
        "result_sum = sum(result_list)#15回の合計\n",
        "\n",
        "expected_single_roll_avarage = (1 + 2 + 3 + 4 + 5 + 6) / 6\n",
        "expected_total_roll_sum = expected_single_roll_avarage * 15\n",
        "\n",
        "if result_sum > expected_total_roll_sum:\n",
        "  print(f\"{result_sum}は期待値{expected_total_roll_sum}よりも高く、高得点です！\")\n",
        "elif result_sum < expected_total_roll_sum:\n",
        "  print(f\"{result_sum}は期待値{expected_total_roll_sum}よりも低く、低得点です。\")\n",
        "else:\n",
        "  print(f\"{result_sum}は期待値{expected_total_roll_sum}と一致しています。\")"
      ],
      "metadata": {
        "colab": {
          "base_uri": "https://localhost:8080/"
        },
        "collapsed": true,
        "id": "nrotIvitIaRD",
        "outputId": "b5a68c17-f9ea-4afc-a906-c0d93bb1520f"
      },
      "execution_count": 77,
      "outputs": [
        {
          "output_type": "stream",
          "name": "stdout",
          "text": [
            "1回目の出目は5\n",
            "2回目の出目は1\n",
            "3回目の出目は1\n",
            "4回目の出目は5\n",
            "5回目の出目は4\n",
            "6回目の出目は2\n",
            "7回目の出目は6\n",
            "8回目の出目は3\n",
            "9回目の出目は1\n",
            "10回目の出目は2\n",
            "11回目の出目は4\n",
            "12回目の出目は2\n",
            "13回目の出目は1\n",
            "14回目の出目は3\n",
            "15回目の出目は5\n",
            "45は期待値52.5よりも低く、低得点です。\n"
          ]
        }
      ]
    }
  ]
}