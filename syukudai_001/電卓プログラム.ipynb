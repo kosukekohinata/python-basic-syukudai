{
  "nbformat": 4,
  "nbformat_minor": 0,
  "metadata": {
    "colab": {
      "provenance": []
    },
    "kernelspec": {
      "name": "python3",
      "display_name": "Python 3"
    },
    "language_info": {
      "name": "python"
    }
  },
  "cells": [
    {
      "cell_type": "code",
      "source": [
        "a = float(input(\"1つ目の数値を入力してください: \"))\n",
        "b = float(input(\"2つ目の数値を入力してください: \"))\n",
        "operator = input(\"演算子を入力してください (+, -, *, /): \")\n",
        "\n",
        "if operator == \"+\":\n",
        "    result = a + b\n",
        "elif operator == \"-\":\n",
        "    result = a - b\n",
        "elif operator == \"*\":\n",
        "    result = a * b\n",
        "elif operator == \"/\":\n",
        "    result = a / b\n",
        "\n",
        "print(f\"{a} {operator} {b} = {result}\")"
      ],
      "metadata": {
        "colab": {
          "base_uri": "https://localhost:8080/"
        },
        "id": "55TXNcg9tsXs",
        "outputId": "c9bfa21c-6478-4c42-ca07-f68a129300f4"
      },
      "execution_count": 7,
      "outputs": [
        {
          "output_type": "stream",
          "name": "stdout",
          "text": [
            "1つ目の数値を入力してください: １\n",
            "2つ目の数値を入力してください: ２\n",
            "演算子を入力してください (+, -, *, /): ＊\n",
            "1.0 ＊ 2.0 = 0.5\n"
          ]
        }
      ]
    }
  ]
}